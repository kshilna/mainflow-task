{
  "nbformat": 4,
  "nbformat_minor": 0,
  "metadata": {
    "colab": {
      "provenance": [],
      "mount_file_id": "18gQ8pUGPiTYyxbCgvCWfxQJr8i2toIG8",
      "authorship_tag": "ABX9TyPbVqXnBgpyXyQIq6HiR52s",
      "include_colab_link": true
    },
    "kernelspec": {
      "name": "python3",
      "display_name": "Python 3"
    },
    "language_info": {
      "name": "python"
    }
  },
  "cells": [
    {
      "cell_type": "markdown",
      "metadata": {
        "id": "view-in-github",
        "colab_type": "text"
      },
      "source": [
        "<a href=\"https://colab.research.google.com/github/kshilna/mainflow-task/blob/main/mainflow_task5.ipynb\" target=\"_parent\"><img src=\"https://colab.research.google.com/assets/colab-badge.svg\" alt=\"Open In Colab\"/></a>"
      ]
    },
    {
      "cell_type": "code",
      "execution_count": 2,
      "metadata": {
        "id": "bgUx1WjCr7Gd"
      },
      "outputs": [],
      "source": [
        "import pandas as pd\n",
        "data = pd.read_csv('heart.csv')\n",
        "\n"
      ]
    },
    {
      "cell_type": "code",
      "source": [
        "print(data.head())\n",
        "\n"
      ],
      "metadata": {
        "colab": {
          "base_uri": "https://localhost:8080/"
        },
        "id": "3DzIVp2Cszws",
        "outputId": "d6e61ae1-ff42-4ca0-dcde-b92c62b60efa"
      },
      "execution_count": 3,
      "outputs": [
        {
          "output_type": "stream",
          "name": "stdout",
          "text": [
            "   age  sex  cp  trtbps  chol  fbs  restecg  thalachh  exng  oldpeak  slp  \\\n",
            "0   63    1   3     145   233    1        0       150     0      2.3    0   \n",
            "1   37    1   2     130   250    0        1       187     0      3.5    0   \n",
            "2   41    0   1     130   204    0        0       172     0      1.4    2   \n",
            "3   56    1   1     120   236    0        1       178     0      0.8    2   \n",
            "4   57    0   0     120   354    0        1       163     1      0.6    2   \n",
            "\n",
            "   caa  thall  output  \n",
            "0    0      1       1  \n",
            "1    0      2       1  \n",
            "2    0      2       1  \n",
            "3    0      2       1  \n",
            "4    0      2       1  \n"
          ]
        }
      ]
    },
    {
      "cell_type": "code",
      "source": [
        "print(data.info())\n",
        "\n"
      ],
      "metadata": {
        "colab": {
          "base_uri": "https://localhost:8080/"
        },
        "id": "hWE0hOLys6DI",
        "outputId": "8b3f021c-5ab1-4777-9c05-b762c8d24d75"
      },
      "execution_count": 4,
      "outputs": [
        {
          "output_type": "stream",
          "name": "stdout",
          "text": [
            "<class 'pandas.core.frame.DataFrame'>\n",
            "RangeIndex: 303 entries, 0 to 302\n",
            "Data columns (total 14 columns):\n",
            " #   Column    Non-Null Count  Dtype  \n",
            "---  ------    --------------  -----  \n",
            " 0   age       303 non-null    int64  \n",
            " 1   sex       303 non-null    int64  \n",
            " 2   cp        303 non-null    int64  \n",
            " 3   trtbps    303 non-null    int64  \n",
            " 4   chol      303 non-null    int64  \n",
            " 5   fbs       303 non-null    int64  \n",
            " 6   restecg   303 non-null    int64  \n",
            " 7   thalachh  303 non-null    int64  \n",
            " 8   exng      303 non-null    int64  \n",
            " 9   oldpeak   303 non-null    float64\n",
            " 10  slp       303 non-null    int64  \n",
            " 11  caa       303 non-null    int64  \n",
            " 12  thall     303 non-null    int64  \n",
            " 13  output    303 non-null    int64  \n",
            "dtypes: float64(1), int64(13)\n",
            "memory usage: 33.3 KB\n",
            "None\n"
          ]
        }
      ]
    },
    {
      "cell_type": "code",
      "source": [
        "data.describe()\n",
        "\n",
        "data['age_group'] = pd.cut(data['age'], bins=[0, 40, 50, 60, 100], labels=['<40', '40-50', '50-60', '60+'])\n",
        "\n",
        "data['chol_category'] = pd.cut(data['chol'], bins=[0, 200, 239, 1000], labels=['normal', 'borderline', 'high'])\n",
        "\n",
        "data['age_chol'] = data['age'] * data['chol']\n",
        "data['thalach_age'] = data['thalachh'] * data['age']\n",
        "\n",
        "print(data.head())\n",
        "\n"
      ],
      "metadata": {
        "colab": {
          "base_uri": "https://localhost:8080/"
        },
        "id": "NTvocoL2s_rl",
        "outputId": "2d2ac51e-cf36-4e68-d451-4380896acf62"
      },
      "execution_count": 5,
      "outputs": [
        {
          "output_type": "stream",
          "name": "stdout",
          "text": [
            "   age  sex  cp  trtbps  chol  fbs  restecg  thalachh  exng  oldpeak  slp  \\\n",
            "0   63    1   3     145   233    1        0       150     0      2.3    0   \n",
            "1   37    1   2     130   250    0        1       187     0      3.5    0   \n",
            "2   41    0   1     130   204    0        0       172     0      1.4    2   \n",
            "3   56    1   1     120   236    0        1       178     0      0.8    2   \n",
            "4   57    0   0     120   354    0        1       163     1      0.6    2   \n",
            "\n",
            "   caa  thall  output age_group chol_category  age_chol  thalach_age  \n",
            "0    0      1       1       60+    borderline     14679         9450  \n",
            "1    0      2       1       <40          high      9250         6919  \n",
            "2    0      2       1     40-50    borderline      8364         7052  \n",
            "3    0      2       1     50-60    borderline     13216         9968  \n",
            "4    0      2       1     50-60          high     20178         9291  \n"
          ]
        }
      ]
    },
    {
      "cell_type": "code",
      "source": [
        "from sklearn.preprocessing import StandardScaler\n",
        "from sklearn.decomposition import PCA\n",
        "\n"
      ],
      "metadata": {
        "id": "ndNfEqfltFux"
      },
      "execution_count": 6,
      "outputs": []
    },
    {
      "cell_type": "code",
      "source": [
        "features = data.drop(columns=['output', 'age_group', 'chol_category'])\n",
        "\n",
        "features = pd.get_dummies(features, drop_first=True)\n",
        "\n",
        "scaler = StandardScaler()\n",
        "features_scaled = scaler.fit_transform(features)\n",
        "\n",
        "pca = PCA(n_components=0.95)  # retain 95% of the variance\n",
        "features_pca = pca.fit_transform(features_scaled)\n",
        "\n",
        "explained_variance = pca.explained_variance_ratio_\n",
        "n_components = pca.n_components_\n",
        "\n",
        "print(features_pca.shape)\n",
        "\n",
        "print(explained_variance)\n",
        "\n",
        "print(n_components)\n",
        "\n"
      ],
      "metadata": {
        "colab": {
          "base_uri": "https://localhost:8080/"
        },
        "id": "RL07DwPYtL6H",
        "outputId": "332ddabe-28c0-455c-c204-cc0e5cd39e87"
      },
      "execution_count": 7,
      "outputs": [
        {
          "output_type": "stream",
          "name": "stdout",
          "text": [
            "(303, 12)\n",
            "[0.20769271 0.1671179  0.09044119 0.08171712 0.06844876 0.06815014\n",
            " 0.05846558 0.05555468 0.05028512 0.04747908 0.04314118 0.03525778]\n",
            "12\n"
          ]
        }
      ]
    },
    {
      "cell_type": "code",
      "source": [
        "from sklearn.ensemble import RandomForestClassifier\n",
        "\n",
        "X = pd.get_dummies(data.drop(columns=['output', 'age_group', 'chol_category']), drop_first=True)\n",
        "y = data['output']\n",
        "\n",
        "rf_model = RandomForestClassifier(n_estimators=100, random_state=42)\n",
        "rf_model.fit(X, y)\n",
        "\n",
        "feature_importances = rf_model.feature_importances_\n",
        "important_features = pd.Series(feature_importances, index=X.columns).sort_values(ascending=False)\n",
        "\n",
        "print(important_features.head(15))\n",
        "\n"
      ],
      "metadata": {
        "colab": {
          "base_uri": "https://localhost:8080/"
        },
        "id": "OrLz7Rz9tSHY",
        "outputId": "77fa3dc6-5ae0-414f-9b65-aa8d1456dfe5"
      },
      "execution_count": 8,
      "outputs": [
        {
          "output_type": "stream",
          "name": "stdout",
          "text": [
            "cp             0.121679\n",
            "oldpeak        0.110464\n",
            "caa            0.104801\n",
            "thalachh       0.102865\n",
            "thall          0.098752\n",
            "thalach_age    0.078321\n",
            "age_chol       0.067467\n",
            "age            0.064543\n",
            "chol           0.057642\n",
            "trtbps         0.057511\n",
            "exng           0.045652\n",
            "slp            0.041447\n",
            "sex            0.028861\n",
            "restecg        0.013131\n",
            "fbs            0.006862\n",
            "dtype: float64\n"
          ]
        }
      ]
    },
    {
      "cell_type": "code",
      "source": [
        "top_features = important_features.head(15).index\n",
        "X_top = X[top_features]\n",
        "\n",
        "rf_model_top = RandomForestClassifier(n_estimators=100, random_state=42)\n",
        "rf_model_top.fit(X_top, y)\n",
        "\n",
        "from sklearn.model_selection import cross_val_score\n",
        "scores = cross_val_score(rf_model_top, X_top, y, cv=5)\n",
        "print(f'Cross-validated scores: {scores}')\n",
        "print(f'Mean score: {scores.mean()}')"
      ],
      "metadata": {
        "colab": {
          "base_uri": "https://localhost:8080/"
        },
        "id": "RbIG_9uBtWK5",
        "outputId": "c7783efe-1a47-4dba-9ad1-7b7698195c7a"
      },
      "execution_count": 9,
      "outputs": [
        {
          "output_type": "stream",
          "name": "stdout",
          "text": [
            "Cross-validated scores: [0.83606557 0.86885246 0.78688525 0.78333333 0.8       ]\n",
            "Mean score: 0.8150273224043716\n"
          ]
        }
      ]
    }
  ]
}